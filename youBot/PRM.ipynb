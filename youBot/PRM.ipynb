{
 "cells": [
  {
   "cell_type": "markdown",
   "metadata": {},
   "source": [
    "## 기본 셋팅"
   ]
  },
  {
   "cell_type": "code",
   "execution_count": 1,
   "metadata": {},
   "outputs": [],
   "source": [
    "import math\n",
    "import collections\n",
    "\n",
    "import numpy as np\n",
    "import sympy as sy\n",
    "import matplotlib.pyplot as plt\n",
    "\n",
    "from scipy.optimize import fsolve\n",
    "\n",
    "from coppeliasim_zmqremoteapi_client import RemoteAPIClient"
   ]
  },
  {
   "cell_type": "code",
   "execution_count": 2,
   "metadata": {},
   "outputs": [
    {
     "name": "stdout",
     "output_type": "stream",
     "text": [
      "Connected to CoppeliaSim\n"
     ]
    }
   ],
   "source": [
    "# Connect to the simulator\n",
    "client = RemoteAPIClient()\n",
    "sim = client.require(\"sim\")\n",
    "\n",
    "print(\"Connected to CoppeliaSim\")"
   ]
  },
  {
   "cell_type": "code",
   "execution_count": 3,
   "metadata": {},
   "outputs": [],
   "source": [
    "# Get arm's joints\n",
    "joints = []\n",
    "for i in range(5):\n",
    "    joints.append(sim.getObject(f\"/youBotArmJoint{i}\"))\n",
    "\n",
    "# Gripper joint\n",
    "joints.append(sim.getObject(f\"/youBotGripperJoint2\"))\n",
    "\n",
    "points = []\n",
    "\n",
    "# Car reference frame\n",
    "points.append(sim.getObject(f\"/youBot_ref\"))\n",
    "# Joint-0 위치\n",
    "points.append(sim.getObject(f\"/p0_ref\"))\n",
    "# End Effector 위치\n",
    "points.append(sim.getObject(f\"/pe_ref\"))\n",
    "# Target 위치\n",
    "points.append(sim.getObject(f\"/Target\"))\n",
    "\n",
    "# joint 제어 모드 변경\n",
    "for joint in joints:\n",
    "    sim.setObjectInt32Param(\n",
    "        joint,\n",
    "        sim.jointintparam_dynctrlmode,\n",
    "        sim.jointdynctrl_position,\n",
    "    )"
   ]
  },
  {
   "cell_type": "code",
   "execution_count": 4,
   "metadata": {},
   "outputs": [
    {
     "name": "stdout",
     "output_type": "stream",
     "text": [
      "Initial joint angles: [-0.8720193644437131, 0.6184509262834427, -0.5969291849198066, -0.025544171288052864, 0.28193491662478376, -0.05]\n"
     ]
    }
   ],
   "source": [
    "# joint angle 조회\n",
    "def read_joints(joints):\n",
    "    js = []\n",
    "    for joint in joints:\n",
    "        j = sim.getJointPosition(joint)\n",
    "        js.append(j)\n",
    "    return js\n",
    "\n",
    "print(\"Initial joint angles:\", read_joints(joints))"
   ]
  },
  {
   "cell_type": "code",
   "execution_count": 5,
   "metadata": {},
   "outputs": [
    {
     "name": "stdout",
     "output_type": "stream",
     "text": [
      "Initial point positions and orientations:\n",
      "Point 1: Position = [2.50000000e-02 9.99960000e-01 1.53971835e-11], Orientation = [ 3.71924713e-15 -1.44328993e-15 -1.66533454e-16]\n",
      "Point 2: Position = [0.0249  1.16618 0.099  ], Orientation = [-5.55111512e-17 -1.11022302e-16  5.55111512e-17]\n",
      "Point 3: Position = [-0.02001367  1.12835987  0.71119749], Orientation = [-0.00258751  0.0030797  -0.59008046]\n",
      "Point 4: Position = [0.125 1.55  0.02 ], Orientation = [-0.  0. -0.]\n"
     ]
    }
   ],
   "source": [
    "# point position & orientation 조회\n",
    "def read_points(points):\n",
    "    ps = []\n",
    "    for point in points:\n",
    "        p = sim.getObjectPosition(point)\n",
    "        o = sim.getObjectOrientation(point)\n",
    "        ps.append(np.array(p + o))\n",
    "    return ps\n",
    "\n",
    "def print_points(ps):\n",
    "    for i, p in enumerate(ps):\n",
    "        print(f\"Point {i+1}: Position = {p[:3]}, Orientation = {p[3:]}\")\n",
    "\n",
    "ps = read_points(points)\n",
    "print(\"Initial point positions and orientations:\")\n",
    "print_points(ps)"
   ]
  },
  {
   "cell_type": "code",
   "execution_count": 6,
   "metadata": {},
   "outputs": [],
   "source": [
    "# joint 제어\n",
    "def control_joint(joints, thetas):\n",
    "    for joint, j in zip(joints, thetas):\n",
    "        sim.setJointTargetPosition(joint, j)"
   ]
  },
  {
   "cell_type": "code",
   "execution_count": 7,
   "metadata": {},
   "outputs": [],
   "source": [
    "# gripper 제어\n",
    "def control_gripper(gripper, state):\n",
    "    position = sim.getJointPosition(gripper)\n",
    "    position += 0.005 if state else -0.005\n",
    "    sim.setJointTargetPosition(gripper, position)\n",
    "    return position"
   ]
  },
  {
   "cell_type": "code",
   "execution_count": 8,
   "metadata": {},
   "outputs": [],
   "source": [
    "# control joint velocity\n",
    "\n",
    "def trace_arm(joints, target_thetas):\n",
    "    js = read_joints(joints)\n",
    "    diff_sum = 0\n",
    "    thetas = []\n",
    "    for i, target in enumerate(target_thetas):\n",
    "        diff = js[i] - target\n",
    "        diff_sum += diff\n",
    "        thetas.append(js[i] - min(0.05, max(-0.05, diff)))\n",
    "    control_joint(joints, thetas)\n",
    "    return diff_sum"
   ]
  },
  {
   "cell_type": "code",
   "execution_count": 9,
   "metadata": {},
   "outputs": [],
   "source": [
    "# forward kinematics\n",
    "def fk(thetas, params):\n",
    "    j1, j2, j3, j4 = thetas[:4]\n",
    "    j0, pc = params[:2]\n",
    "    # 월드 기준 자동차\n",
    "    dc = pc[5]\n",
    "    TWC = np.array([\n",
    "        [np.cos(dc), -np.sin(dc), 0, pc[0]],\n",
    "        [np.sin(dc),  np.cos(dc), 0, pc[1]],\n",
    "        [         0,           0, 1, pc[2]],\n",
    "        [         0,           0, 0,     1]\n",
    "    ])\n",
    "\n",
    "    # 자동차 -> joint-0\n",
    "    TC0 = np.array([ # 좌표이동 및 y축을 기준으로 90도 회전\n",
    "        [1, 0, 0, 0.0],\n",
    "        [0, 1, 0, 0.166],\n",
    "        [0, 0, 1, 0.099],\n",
    "        [0, 0, 0, 1]\n",
    "    ]) @ np.array([\n",
    "        [np.cos(j0), -np.sin(j0), 0, 0],\n",
    "        [np.sin(j0),  np.cos(j0), 0, 0],\n",
    "        [         0,           0, 1, 0],\n",
    "        [         0,           0, 0, 1]\n",
    "    ])\n",
    "    TW0 = TWC @ TC0\n",
    "\n",
    "    # joint-0 -> joint-1\n",
    "    ay1 = np.pi / 2\n",
    "    T01 = np.array([ # 좌표이동 및 y축을 기준으로 90도 회전\n",
    "        [ np.cos(ay1), 0, np.sin(ay1), 0.0],\n",
    "        [           0, 1,           0, 0.033],\n",
    "        [-np.sin(ay1), 0, np.cos(ay1), 0.147],\n",
    "        [           0, 0,           0, 1]\n",
    "    ]) @ np.array([ # z축을 기준으로 j1만큼 회전\n",
    "        [np.cos(j1), -np.sin(j1), 0, 0],\n",
    "        [np.sin(j1),  np.cos(j1), 0, 0],\n",
    "        [         0,           0, 1, 0],\n",
    "        [         0,           0, 0, 1]\n",
    "    ])\n",
    "    TW1 = TW0 @ T01\n",
    "\n",
    "    # joint-1 -> joint-2\n",
    "    T12 = np.array([ # 좌표이동, 회전 없음\n",
    "        [1, 0, 0, -0.155],\n",
    "        [0, 1, 0,  0.0],\n",
    "        [0, 0, 1,  0.0],\n",
    "        [0, 0, 0,  1]\n",
    "    ]) @ np.array([ # z축을 기준으로 j2만큼 회전\n",
    "        [np.cos(j2), -np.sin(j2), 0, 0],\n",
    "        [np.sin(j2),  np.cos(j2), 0, 0],\n",
    "        [         0,           0, 1, 0],\n",
    "        [         0,           0, 0, 1]\n",
    "    ])\n",
    "    TW2 = TW1 @ T12\n",
    "\n",
    "    # joint-2 -> joint-3\n",
    "    T23 = np.array([ # 좌표이동, 회전 없음\n",
    "        [1, 0, 0, -0.135],\n",
    "        [0, 1, 0,  0.0],\n",
    "        [0, 0, 1,  0.0],\n",
    "        [0, 0, 0,  1]\n",
    "    ]) @ np.array([ # z축을 기준으로 j3만큼 회전\n",
    "        [np.cos(j3), -np.sin(j3), 0, 0],\n",
    "        [np.sin(j3),  np.cos(j3), 0, 0],\n",
    "        [         0,           0, 1, 0],\n",
    "        [         0,           0, 0, 1]\n",
    "    ])\n",
    "    TW3 = TW2 @ T23\n",
    "\n",
    "    # joint-3 -> joint-4\n",
    "    ay4 = -np.pi / 2\n",
    "    T34 = np.array([ # 좌표이동 및 y축을 기준으로 -90도 회전\n",
    "        [ np.cos(ay4), 0, np.sin(ay4), -0.081],\n",
    "        [           0, 1,           0,  0.0],\n",
    "        [-np.sin(ay4), 0, np.cos(ay4),  0.0],\n",
    "        [           0,  0,          0,  1]\n",
    "    ]) @ np.array([ # z축을 기준으로 j4만큼 회전\n",
    "        [np.cos(j4), -np.sin(j4), 0, 0],\n",
    "        [np.sin(j4),  np.cos(j4), 0, 0],\n",
    "        [         0,           0, 1, 0],\n",
    "        [         0,           0, 0, 1]\n",
    "    ])\n",
    "    TW4 = TW3 @ T34\n",
    "\n",
    "    pe_hat = TW4 @ np.array([ 0.0,   0.0,   0.123, 1])\n",
    "\n",
    "    return pe_hat[:3]"
   ]
  },
  {
   "cell_type": "code",
   "execution_count": 10,
   "metadata": {},
   "outputs": [],
   "source": [
    "# inverse kinematics\n",
    "def ik(thetas, params):  \n",
    "    pt = params[-1][:3]\n",
    "    pe_hat = fk(thetas, params)\n",
    "    # theta 범위 검증\n",
    "    if thetas[0] < np.deg2rad(-90) or np.deg2rad(75) < thetas[0]:\n",
    "        return 10, 0, 0, 0\n",
    "    elif thetas[1] < np.deg2rad(-131.00) or np.deg2rad(131.00) < thetas[1]:\n",
    "        return 10, 0, 0, 0\n",
    "    elif thetas[2] < np.deg2rad(-102.00) or np.deg2rad(102.00) < thetas[2]:\n",
    "        return 10, 0, 0, 0\n",
    "    elif thetas[3] < np.deg2rad(-90.00) or np.deg2rad(90.00) < thetas[3]:\n",
    "        return 10, 0, 0, 0\n",
    "    return np.linalg.norm(pe_hat - pt), 0, 0, 0"
   ]
  },
  {
   "cell_type": "code",
   "execution_count": 11,
   "metadata": {},
   "outputs": [],
   "source": [
    "def solve(js, ps):\n",
    "    p0, pt = ps[1], ps[-1]\n",
    "    diff = pt[:2] - p0[:2]\n",
    "    angle = math.atan2(diff[1], diff[0])\n",
    "    j0 = angle - p0[-1] - np.pi / 2\n",
    "    target_thetas = fsolve(\n",
    "        ik,\n",
    "        [js[1], js[2], js[3], js[4]],\n",
    "        [j0, ps[0], ps[-1]]\n",
    "    )\n",
    "    return np.concatenate((np.array([j0]), target_thetas))"
   ]
  },
  {
   "cell_type": "code",
   "execution_count": 12,
   "metadata": {},
   "outputs": [
    {
     "name": "stderr",
     "output_type": "stream",
     "text": [
      "C:\\Users\\joy4m\\AppData\\Local\\Temp\\ipykernel_88052\\3481707928.py:6: RuntimeWarning: The iteration is not making good progress, as measured by the \n",
      "  improvement from the last five Jacobian evaluations.\n",
      "  target_thetas = fsolve(\n"
     ]
    }
   ],
   "source": [
    "n_steps = 400\n",
    "\n",
    "# 시뮬레이션 실행\n",
    "sim.setStepping(True)\n",
    "sim.startSimulation()\n",
    "\n",
    "# 각 스텝 실행\n",
    "js = read_joints(joints)\n",
    "ps = read_points(points)\n",
    "target_thetas = solve(js, ps)\n",
    "place_thetas = [np.pi, -np.pi / 6, -np.pi / 2.7, -np.pi / 3, 0]\n",
    "base_thetas = [0, 0, 0, 0, 0]\n",
    "stage = 0\n",
    "gripper_positions = collections.deque(maxlen=100)\n",
    "for i in range(n_steps):\n",
    "    if stage == 0: # move to target\n",
    "        diff_sum = trace_arm(joints, target_thetas)\n",
    "        if abs(diff_sum) < 0.005:\n",
    "            stage = 1\n",
    "    elif stage == 1: # grip target\n",
    "        position = control_gripper(joints[-1], True)\n",
    "        gripper_positions.append(position)\n",
    "        if len(gripper_positions) > 5 and np.abs(gripper_positions[-1] - gripper_positions[-5]) < 0.001:\n",
    "            stage = 2\n",
    "    elif stage == 2:  # pick the target\n",
    "        target_thetas[0] = np.pi\n",
    "        target_thetas[1] = -np.pi / 12\n",
    "        target_thetas[2] = -np.pi / 6\n",
    "        diff_sum = trace_arm(joints, target_thetas)\n",
    "        if abs(diff_sum) < 0.005:\n",
    "            stage = 3\n",
    "    elif stage == 3: # move to place\n",
    "        diff_sum = trace_arm(joints, place_thetas)\n",
    "        if abs(diff_sum) < 0.005:\n",
    "            stage = 4\n",
    "    elif stage == 4: # place the target\n",
    "        position = control_gripper(joints[-1], False)\n",
    "        gripper_positions.append(position)\n",
    "        if len(gripper_positions) > 5 and np.abs(gripper_positions[-1] - gripper_positions[-5]) < 0.001:\n",
    "            stage = 5\n",
    "    elif stage == 5: # move to base\n",
    "        diff_sum = trace_arm(joints, base_thetas)\n",
    "        if abs(diff_sum) < 0.005:\n",
    "            stage = 6\n",
    "    sim.step()\n",
    "\n",
    "# 시뮬레이션 종료\n",
    "sim.stopSimulation()"
   ]
  },
  {
   "cell_type": "markdown",
   "metadata": {},
   "source": [
    "# Configuration Sampling"
   ]
  },
  {
   "cell_type": "code",
   "execution_count": 13,
   "metadata": {},
   "outputs": [
    {
     "name": "stdout",
     "output_type": "stream",
     "text": [
      "Sample 1: [101.92708513462657, -48.393895696161586, 42.10104563066599, 99.76367542608969, -40.75498975376693]\n",
      "Sample 2: [174.13795733979225, -11.377443856160198, 101.10853662520893, -7.883453508826008, -36.44654034545264]\n",
      "Sample 3: [-170.3569579702967, 59.76492505626615, 20.953183212379656, -6.707151031448973, -49.3432725234479]\n",
      "Sample 4: [65.38237729121187, -48.95786583735648, 100.55125663077823, -89.49913428810203, -43.96431657896515]\n",
      "Sample 5: [-166.12980515917994, 22.46277752555298, -97.18648226191911, 20.110507699825675, -70.86403423409803]\n",
      "Sample 6: [0.9034077873391766, 40.99055257410819, -73.7977860082502, -85.56794467115793, -34.094519808665865]\n",
      "Sample 7: [38.963662206013794, 26.191087830002857, -14.648455191956856, 95.93718346206836, 27.579376705622238]\n",
      "Sample 8: [39.93961833536369, 37.61721297367039, 17.638209370842134, -34.264591027713394, -12.470793634819586]\n",
      "Sample 9: [167.6890943240349, -27.896366140698873, 130.94809925528722, 26.162590958964614, 20.427533964140153]\n",
      "Sample 10: [-165.15524447510396, 63.89023520266986, 44.10120141666644, 62.82128975112013, -53.609704457968405]\n"
     ]
    }
   ],
   "source": [
    "# Configuration space \n",
    "\n",
    "# Joint range\n",
    "joint_ranges = [(-180, 180),   # Joint 0\n",
    "                (-90, 75),     # Joint 1\n",
    "                (-131, 131),   # Joint 2\n",
    "                (-102, 102),   # Joint 3\n",
    "                (-90, 90)]     # Joint 4\n",
    "\n",
    "def configuration_sampling(n_sample, joint_ranges):\n",
    "    samples = []\n",
    "    for _ in range(n_sample):\n",
    "        sample = [np.random.uniform(joint_range[0], joint_range[1]) for joint_range in joint_ranges]\n",
    "        samples.append(sample)\n",
    "    return samples\n",
    "\n",
    "n_sample = 10\n",
    "samples = configuration_sampling(n_sample, joint_ranges)\n",
    "\n",
    "for i, sample in enumerate(samples, 1):\n",
    "    print(f\"Sample {i}: {sample}\")"
   ]
  },
  {
   "cell_type": "code",
   "execution_count": 14,
   "metadata": {},
   "outputs": [],
   "source": [
    "# sampling된 각도를 joint position으로 setting\n",
    "def set_joint_positions(joint_angles):\n",
    "    for i, angle in enumerate(joint_angles):\n",
    "        sim.setJointPosition(joints[i], angle)"
   ]
  },
  {
   "cell_type": "code",
   "execution_count": 15,
   "metadata": {},
   "outputs": [
    {
     "name": "stdout",
     "output_type": "stream",
     "text": [
      "Obstacle position: [-0.17499999999999982, 1.300000000000001, 0.45000000000000023]\n"
     ]
    }
   ],
   "source": [
    "# Get obstacle position\n",
    "obs = sim.getObject(f\"/Obstacle\")\n",
    "obs_pos = sim.getObjectPosition(obs)\n",
    "obs_radius = 0.2 + 0.06\n",
    "\n",
    "print(\"Obstacle position:\", obs_pos)"
   ]
  },
  {
   "cell_type": "code",
   "execution_count": 16,
   "metadata": {},
   "outputs": [],
   "source": [
    "def fk_with_links(thetas, params):\n",
    "    j1, j2, j3, j4 = thetas[:4]\n",
    "    j0, pc = params[:2]\n",
    "    dc = pc[5]\n",
    "\n",
    "    # 월드 기준 자동차 위치 및 방향\n",
    "    TWC = np.array([\n",
    "        [np.cos(dc), -np.sin(dc), 0, pc[0]],\n",
    "        [np.sin(dc),  np.cos(dc), 0, pc[1]],\n",
    "        [         0,           0, 1, pc[2]],\n",
    "        [         0,           0, 0,     1]\n",
    "    ])\n",
    "\n",
    "    # 자동차 -> joint-0 변환\n",
    "    TC0 = np.array([\n",
    "        [1, 0, 0, 0.0],\n",
    "        [0, 1, 0, 0.166],\n",
    "        [0, 0, 1, 0.099],\n",
    "        [0, 0, 0, 1]\n",
    "    ]) @ np.array([\n",
    "        [np.cos(j0), -np.sin(j0), 0, 0],\n",
    "        [np.sin(j0),  np.cos(j0), 0, 0],\n",
    "        [         0,           0, 1, 0],\n",
    "        [         0,           0, 0, 1]\n",
    "    ])\n",
    "    TW0 = TWC @ TC0\n",
    "    p0_hat = TW0[:3, 3]  # joint-0 위치\n",
    "\n",
    "    # joint-0 -> joint-1 변환\n",
    "    ay1 = np.pi / 2\n",
    "    T01 = np.array([\n",
    "        [ np.cos(ay1), 0, np.sin(ay1), 0.0],\n",
    "        [           0, 1,           0, 0.033],\n",
    "        [-np.sin(ay1), 0, np.cos(ay1), 0.147],\n",
    "        [           0, 0,           0, 1]\n",
    "    ]) @ np.array([\n",
    "        [np.cos(j1), -np.sin(j1), 0, 0],\n",
    "        [np.sin(j1),  np.cos(j1), 0, 0],\n",
    "        [         0,           0, 1, 0],\n",
    "        [         0,           0, 0, 1]\n",
    "    ])\n",
    "    TW1 = TW0 @ T01\n",
    "    p1_hat = TW1[:3, 3]  # joint-1 위치\n",
    "\n",
    "    # joint-1 -> joint-2 변환\n",
    "    T12 = np.array([\n",
    "        [1, 0, 0, -0.155],\n",
    "        [0, 1, 0,  0.0],\n",
    "        [0, 0, 1,  0.0],\n",
    "        [0, 0, 0,  1]\n",
    "    ]) @ np.array([\n",
    "        [np.cos(j2), -np.sin(j2), 0, 0],\n",
    "        [np.sin(j2),  np.cos(j2), 0, 0],\n",
    "        [         0,           0, 1, 0],\n",
    "        [         0,           0, 0, 1]\n",
    "    ])\n",
    "    TW2 = TW1 @ T12\n",
    "    p2_hat = TW2[:3, 3]  # joint-2 위치\n",
    "\n",
    "    # joint-2 -> joint-3 변환\n",
    "    T23 = np.array([\n",
    "        [1, 0, 0, -0.135],\n",
    "        [0, 1, 0,  0.0],\n",
    "        [0, 0, 1,  0.0],\n",
    "        [0, 0, 0,  1]\n",
    "    ]) @ np.array([\n",
    "        [np.cos(j3), -np.sin(j3), 0, 0],\n",
    "        [np.sin(j3),  np.cos(j3), 0, 0],\n",
    "        [         0,           0, 1, 0],\n",
    "        [         0,           0, 0, 1]\n",
    "    ])\n",
    "    TW3 = TW2 @ T23\n",
    "    p3_hat = TW3[:3, 3]  # joint-3 위치\n",
    "\n",
    "    # joint-3 -> joint-4 변환\n",
    "    ay4 = -np.pi / 2\n",
    "    T34 = np.array([\n",
    "        [ np.cos(ay4), 0, np.sin(ay4), -0.081],\n",
    "        [           0, 1,           0,  0.0],\n",
    "        [-np.sin(ay4), 0, np.cos(ay4),  0.0],\n",
    "        [           0,  0,          0,  1]\n",
    "    ]) @ np.array([\n",
    "        [np.cos(j4), -np.sin(j4), 0, 0],\n",
    "        [np.sin(j4),  np.cos(j4), 0, 0],\n",
    "        [         0,           0, 1, 0],\n",
    "        [         0,           0, 0, 1]\n",
    "    ])\n",
    "    TW4 = TW3 @ T34\n",
    "    p4_hat = TW4[:3, 3]  # joint-4 위치\n",
    "\n",
    "    # 엔드 이펙터 위치 계산\n",
    "    pe_hat = TW4 @ np.array([0.0, 0.0, 0.123, 1])\n",
    "    \n",
    "    return [p0_hat, p1_hat, p2_hat, p3_hat, p4_hat, pe_hat[:3]]"
   ]
  },
  {
   "cell_type": "code",
   "execution_count": 17,
   "metadata": {},
   "outputs": [
    {
     "name": "stdout",
     "output_type": "stream",
     "text": [
      "Sample 1 is in collision in workspace\n",
      "Sample 2 is collision-free in workspace\n",
      "Sample 3 is collision-free in workspace\n",
      "Sample 4 is collision-free in workspace\n",
      "Sample 5 is collision-free in workspace\n",
      "Sample 6 is in collision in workspace\n",
      "Sample 7 is collision-free in workspace\n",
      "Sample 8 is collision-free in workspace\n",
      "Sample 9 is in collision in workspace\n",
      "Sample 10 is collision-free in workspace\n"
     ]
    }
   ],
   "source": [
    "# Colllision check\n",
    "\n",
    "def check_workspace_collision(link_positions, obs_position, obs_radius):\n",
    "    for pos in link_positions:\n",
    "        dist = np.linalg.norm(pos - obs_position)\n",
    "        if dist < obs_radius:\n",
    "            return True  # 충돌 발생\n",
    "    return False  # 충돌 없음\n",
    "\n",
    "# 각 샘플링된 각도에 Work space 충돌 여부 확인\n",
    "for i, sample in enumerate(samples):\n",
    "    pc = read_points(points)[0]  # Car reference 위치\n",
    "    \n",
    "    # fk_with_links를 통해 Work space에서의 링크 위치 계산\n",
    "    link_positions = fk_with_links(sample, (sample[0], pc))\n",
    "\n",
    "    # Work space 에서의 충돌 여부 확인\n",
    "    is_collision = check_workspace_collision(link_positions, obs_pos, obs_radius)\n",
    "\n",
    "\n",
    "    if is_collision:\n",
    "        print(f\"Sample {i+1} is in collision in workspace\")\n",
    "    else:\n",
    "        print(f\"Sample {i+1} is collision-free in workspace\")"
   ]
  },
  {
   "cell_type": "code",
   "execution_count": 18,
   "metadata": {},
   "outputs": [
    {
     "name": "stdout",
     "output_type": "stream",
     "text": [
      "Applying Sample 1\n",
      "Sample 1: FK End Effector = [0.32349552 1.11378868 0.17598434], Simulated End Effector = [0.03304839 1.08502314 0.64094258], Error = 0.5489746383341341\n",
      "Applying Sample 2\n",
      "Sample 2: FK End Effector = [0.29295417 1.10564352 0.55343958], Simulated End Effector = [0.01491079 1.29064153 0.65971746], Error = 0.350467363116794\n",
      "Applying Sample 3\n",
      "Sample 3: FK End Effector = [0.22702993 1.36279722 0.23340096], Simulated End Effector = [0.04640523 0.97950904 0.46430185], Error = 0.4825456812796922\n",
      "Applying Sample 4\n",
      "Sample 4: FK End Effector = [-0.06421972  1.05693656 -0.11836199], Simulated End Effector = [-0.05746974  1.32127727  0.53320078], Error = 0.7031753820880026\n",
      "Applying Sample 5\n",
      "Sample 5: FK End Effector = [0.09317798 1.03004088 0.08916821], Simulated End Effector = [0.05008514 1.13230234 0.66944277], Error = 0.5907901200020049\n",
      "Applying Sample 6\n",
      "Sample 6: FK End Effector = [-0.03572524  1.27910599  0.45493954], Simulated End Effector = [0.06627651 1.17560555 0.58801348], Error = 0.19704155129320527\n",
      "Applying Sample 7\n",
      "Sample 7: FK End Effector = [0.28998238 1.08200763 0.39820059], Simulated End Effector = [0.22370524 1.22370853 0.59335064], Error = 0.2501106693371855\n",
      "Applying Sample 8\n",
      "Sample 8: FK End Effector = [0.36455024 1.38244334 0.19360015], Simulated End Effector = [0.14230438 1.40059617 0.4764198 ], Error = 0.36015233059449286\n",
      "Applying Sample 9\n",
      "Sample 9: FK End Effector = [-0.00877069  1.22989825  0.36278719], Simulated End Effector = [-0.10305242  1.47121246  0.50118165], Error = 0.29372540801123426\n",
      "Applying Sample 10\n",
      "Sample 10: FK End Effector = [0.38564347 1.0915127  0.49884984], Simulated End Effector = [0.06592339 1.39297101 0.01598543], Error = 0.6528828933716013\n",
      "Simulation finished.\n"
     ]
    }
   ],
   "source": [
    "n_steps = 500\n",
    "\n",
    "# Run simulation\n",
    "sim.setStepping(True)\n",
    "sim.startSimulation()\n",
    "\n",
    "# 4. 시뮬레이션 루프: 샘플링된 각도 적용 및 FK 결과 비교\n",
    "for i, sample in enumerate(samples):\n",
    "    print(f\"Applying Sample {i+1}\")\n",
    "    \n",
    "    # 고정된 스텝 수만큼 trace_arm 반복하여 목표 각도로 이동\n",
    "    fixed_steps = 30  # 각 샘플에 대해 이동할 스텝 수\n",
    "    for _ in range(fixed_steps):\n",
    "        trace_arm(joints, sample)\n",
    "        sim.step()  # 한 스텝 진행\n",
    "    \n",
    "    # 현재 포인트 위치 읽기 (Car reference 위치 포함)\n",
    "    ps = read_points(points)\n",
    "    pc = ps[0]  # Car reference frame 위치 및 방향\n",
    "\n",
    "    # Forward Kinematics 계산\n",
    "    end_effector_pos = fk(sample, (sample[0], pc))\n",
    "    \n",
    "    # 시뮬레이션에서 End Effector 위치 읽기\n",
    "    pe_actual = np.array(sim.getObjectPosition(points[2]))\n",
    "\n",
    "    # error measure\n",
    "    error = np.linalg.norm(pe_actual - end_effector_pos)\n",
    "    print(f\"Sample {i+1}: FK End Effector = {end_effector_pos}, Simulated End Effector = {pe_actual}, Error = {error}\")\n",
    "\n",
    "# 5. 시뮬레이션 종료\n",
    "sim.stopSimulation()\n",
    "print(\"Simulation finished.\")\n"
   ]
  },
  {
   "cell_type": "markdown",
   "metadata": {},
   "source": [
    "# Test\n"
   ]
  },
  {
   "cell_type": "code",
   "execution_count": null,
   "metadata": {},
   "outputs": [],
   "source": []
  }
 ],
 "metadata": {
  "kernelspec": {
   "display_name": "coppeliasim",
   "language": "python",
   "name": "python3"
  },
  "language_info": {
   "codemirror_mode": {
    "name": "ipython",
    "version": 3
   },
   "file_extension": ".py",
   "mimetype": "text/x-python",
   "name": "python",
   "nbconvert_exporter": "python",
   "pygments_lexer": "ipython3",
   "version": "3.12.4"
  }
 },
 "nbformat": 4,
 "nbformat_minor": 2
}
